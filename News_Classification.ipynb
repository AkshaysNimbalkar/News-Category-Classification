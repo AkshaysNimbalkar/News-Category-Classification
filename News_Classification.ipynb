{
 "cells": [
  {
   "cell_type": "code",
   "execution_count": 1,
   "metadata": {},
   "outputs": [],
   "source": [
    "import pandas as pd\n",
    "import numpy as np\n",
    "import seaborn as sns\n",
    "import matplotlib.pyplot as plt"
   ]
  },
  {
   "cell_type": "code",
   "execution_count": 118,
   "metadata": {},
   "outputs": [],
   "source": [
    "df = pd.read_json(\"E:/DataScience_Study/Aegis/Term-1/Project-Sessions/Bhavik Gandhi_ML/Proj-3_Text_Classification/news-category-dataset/News_Category_Dataset_v2.json\", lines=True)\n"
   ]
  },
  {
   "cell_type": "code",
   "execution_count": 172,
   "metadata": {},
   "outputs": [
    {
     "data": {
      "text/html": [
       "<div>\n",
       "<style scoped>\n",
       "    .dataframe tbody tr th:only-of-type {\n",
       "        vertical-align: middle;\n",
       "    }\n",
       "\n",
       "    .dataframe tbody tr th {\n",
       "        vertical-align: top;\n",
       "    }\n",
       "\n",
       "    .dataframe thead th {\n",
       "        text-align: right;\n",
       "    }\n",
       "</style>\n",
       "<table border=\"1\" class=\"dataframe\">\n",
       "  <thead>\n",
       "    <tr style=\"text-align: right;\">\n",
       "      <th></th>\n",
       "      <th>authors</th>\n",
       "      <th>category</th>\n",
       "      <th>date</th>\n",
       "      <th>headline</th>\n",
       "      <th>short_description</th>\n",
       "    </tr>\n",
       "  </thead>\n",
       "  <tbody>\n",
       "    <tr>\n",
       "      <th>0</th>\n",
       "      <td>Melissa Jeltsen</td>\n",
       "      <td>CRIME</td>\n",
       "      <td>2018-05-26</td>\n",
       "      <td>There Were 2 Mass Shootings In Texas Last Week, But Only 1 On TV</td>\n",
       "      <td>She left her husband. He killed their children. Just another day in America.</td>\n",
       "    </tr>\n",
       "    <tr>\n",
       "      <th>1</th>\n",
       "      <td>Andy McDonald</td>\n",
       "      <td>ENTERTAINMENT</td>\n",
       "      <td>2018-05-26</td>\n",
       "      <td>Will Smith Joins Diplo And Nicky Jam For The 2018 World Cup's Official Song</td>\n",
       "      <td>Of course it has a song.</td>\n",
       "    </tr>\n",
       "    <tr>\n",
       "      <th>2</th>\n",
       "      <td>Ron Dicker</td>\n",
       "      <td>ENTERTAINMENT</td>\n",
       "      <td>2018-05-26</td>\n",
       "      <td>Hugh Grant Marries For The First Time At Age 57</td>\n",
       "      <td>The actor and his longtime girlfriend Anna Eberstein tied the knot in a civil ceremony.</td>\n",
       "    </tr>\n",
       "    <tr>\n",
       "      <th>3</th>\n",
       "      <td>Ron Dicker</td>\n",
       "      <td>ENTERTAINMENT</td>\n",
       "      <td>2018-05-26</td>\n",
       "      <td>Jim Carrey Blasts 'Castrato' Adam Schiff And Democrats In New Artwork</td>\n",
       "      <td>The actor gives Dems an ass-kicking for not fighting hard enough against Donald Trump.</td>\n",
       "    </tr>\n",
       "    <tr>\n",
       "      <th>4</th>\n",
       "      <td>Ron Dicker</td>\n",
       "      <td>ENTERTAINMENT</td>\n",
       "      <td>2018-05-26</td>\n",
       "      <td>Julianna Margulies Uses Donald Trump Poop Bags To Pick Up After Her Dog</td>\n",
       "      <td>The \"Dietland\" actress said using the bags is a \"really cathartic, therapeutic moment.\"</td>\n",
       "    </tr>\n",
       "    <tr>\n",
       "      <th>5</th>\n",
       "      <td>Ron Dicker</td>\n",
       "      <td>ENTERTAINMENT</td>\n",
       "      <td>2018-05-26</td>\n",
       "      <td>Morgan Freeman 'Devastated' That Sexual Harassment Claims Could Undermine Legacy</td>\n",
       "      <td>\"It is not right to equate horrific incidents of sexual assault with misplaced compliments or humor,\" he said in a statement.</td>\n",
       "    </tr>\n",
       "    <tr>\n",
       "      <th>6</th>\n",
       "      <td>Ron Dicker</td>\n",
       "      <td>ENTERTAINMENT</td>\n",
       "      <td>2018-05-26</td>\n",
       "      <td>Donald Trump Is Lovin' New McDonald's Jingle In 'Tonight Show' Bit</td>\n",
       "      <td>It's catchy, all right.</td>\n",
       "    </tr>\n",
       "  </tbody>\n",
       "</table>\n",
       "</div>"
      ],
      "text/plain": [
       "           authors       category       date  \\\n",
       "0  Melissa Jeltsen  CRIME         2018-05-26   \n",
       "1  Andy McDonald    ENTERTAINMENT 2018-05-26   \n",
       "2  Ron Dicker       ENTERTAINMENT 2018-05-26   \n",
       "3  Ron Dicker       ENTERTAINMENT 2018-05-26   \n",
       "4  Ron Dicker       ENTERTAINMENT 2018-05-26   \n",
       "5  Ron Dicker       ENTERTAINMENT 2018-05-26   \n",
       "6  Ron Dicker       ENTERTAINMENT 2018-05-26   \n",
       "\n",
       "                                                                           headline  \\\n",
       "0  There Were 2 Mass Shootings In Texas Last Week, But Only 1 On TV                   \n",
       "1  Will Smith Joins Diplo And Nicky Jam For The 2018 World Cup's Official Song        \n",
       "2  Hugh Grant Marries For The First Time At Age 57                                    \n",
       "3  Jim Carrey Blasts 'Castrato' Adam Schiff And Democrats In New Artwork              \n",
       "4  Julianna Margulies Uses Donald Trump Poop Bags To Pick Up After Her Dog            \n",
       "5  Morgan Freeman 'Devastated' That Sexual Harassment Claims Could Undermine Legacy   \n",
       "6  Donald Trump Is Lovin' New McDonald's Jingle In 'Tonight Show' Bit                 \n",
       "\n",
       "                                                                                                               short_description  \n",
       "0  She left her husband. He killed their children. Just another day in America.                                                   \n",
       "1  Of course it has a song.                                                                                                       \n",
       "2  The actor and his longtime girlfriend Anna Eberstein tied the knot in a civil ceremony.                                        \n",
       "3  The actor gives Dems an ass-kicking for not fighting hard enough against Donald Trump.                                         \n",
       "4  The \"Dietland\" actress said using the bags is a \"really cathartic, therapeutic moment.\"                                        \n",
       "5  \"It is not right to equate horrific incidents of sexual assault with misplaced compliments or humor,\" he said in a statement.  \n",
       "6  It's catchy, all right.                                                                                                        "
      ]
     },
     "execution_count": 172,
     "metadata": {},
     "output_type": "execute_result"
    }
   ],
   "source": [
    "pd.set_option('display.max_colwidth', -1)\n",
    "df.head(7)"
   ]
  },
  {
   "cell_type": "code",
   "execution_count": 120,
   "metadata": {},
   "outputs": [],
   "source": [
    "df.drop('link', inplace=True, axis=1)"
   ]
  },
  {
   "cell_type": "code",
   "execution_count": 177,
   "metadata": {},
   "outputs": [
    {
     "data": {
      "text/plain": [
       "(148983, 5)"
      ]
     },
     "execution_count": 177,
     "metadata": {},
     "output_type": "execute_result"
    }
   ],
   "source": [
    "df.shape"
   ]
  },
  {
   "cell_type": "code",
   "execution_count": 79,
   "metadata": {},
   "outputs": [],
   "source": [
    "#df['authors'].replace('', np.nan, inplace=True)"
   ]
  },
  {
   "cell_type": "code",
   "execution_count": 82,
   "metadata": {},
   "outputs": [],
   "source": [
    "#df['authors'].replace(' ', np.nan, inplace=True)"
   ]
  },
  {
   "cell_type": "code",
   "execution_count": 173,
   "metadata": {},
   "outputs": [],
   "source": [
    "df['headline'].replace('', np.nan, inplace=True)\n",
    "df['short_description'].replace('', np.nan, inplace=True)\n",
    "df['authors'].replace('', np.nan, inplace=True)"
   ]
  },
  {
   "cell_type": "code",
   "execution_count": 176,
   "metadata": {},
   "outputs": [
    {
     "data": {
      "text/plain": [
       "authors              0\n",
       "category             0\n",
       "date                 0\n",
       "headline             0\n",
       "short_description    0\n",
       "dtype: int64"
      ]
     },
     "execution_count": 176,
     "metadata": {},
     "output_type": "execute_result"
    }
   ],
   "source": [
    "df.isna().sum()"
   ]
  },
  {
   "cell_type": "code",
   "execution_count": 175,
   "metadata": {},
   "outputs": [],
   "source": [
    "df.dropna(subset=['headline'], inplace=True)\n",
    "df.dropna(subset=['short_description'], inplace=True)\n",
    "df.dropna(subset=['authors'], inplace=True)"
   ]
  },
  {
   "cell_type": "code",
   "execution_count": 178,
   "metadata": {},
   "outputs": [],
   "source": [
    "df_orignial = df.copy()"
   ]
  },
  {
   "cell_type": "code",
   "execution_count": 179,
   "metadata": {},
   "outputs": [
    {
     "name": "stdout",
     "output_type": "stream",
     "text": [
      "NTLK version: 3.3\n",
      "[nltk_data] Downloading package words to\n",
      "[nltk_data]     C:\\Users\\ikd\\AppData\\Roaming\\nltk_data...\n",
      "[nltk_data]   Package words is already up-to-date!\n",
      "[nltk_data] Downloading package averaged_perceptron_tagger to\n",
      "[nltk_data]     C:\\Users\\ikd\\AppData\\Roaming\\nltk_data...\n",
      "[nltk_data]   Package averaged_perceptron_tagger is already up-to-\n",
      "[nltk_data]       date!\n",
      "[nltk_data] Downloading package punkt to\n",
      "[nltk_data]     C:\\Users\\ikd\\AppData\\Roaming\\nltk_data...\n",
      "[nltk_data]   Package punkt is already up-to-date!\n",
      "[nltk_data] Downloading package maxent_ne_chunker to\n",
      "[nltk_data]     C:\\Users\\ikd\\AppData\\Roaming\\nltk_data...\n",
      "[nltk_data]   Package maxent_ne_chunker is already up-to-date!\n"
     ]
    },
    {
     "data": {
      "text/plain": [
       "True"
      ]
     },
     "execution_count": 179,
     "metadata": {},
     "output_type": "execute_result"
    }
   ],
   "source": [
    "import nltk\n",
    "print('NTLK version: %s' % (nltk.__version__))\n",
    "\n",
    "from nltk import word_tokenize, pos_tag, ne_chunk\n",
    "nltk.download('words')\n",
    "nltk.download('averaged_perceptron_tagger')\n",
    "nltk.download('punkt')\n",
    "nltk.download('maxent_ne_chunker')"
   ]
  },
  {
   "cell_type": "code",
   "execution_count": 180,
   "metadata": {},
   "outputs": [
    {
     "data": {
      "text/plain": [
       "0    [there, were, mass, shootings, texas, last, only]                  \n",
       "1    [will, smith, joins, diplo, nicky, world, official, song]          \n",
       "2    [hugh, grant, marries, first, time]                                \n",
       "3    [carrey, blasts, adam, schiff, democrats, artwork]                 \n",
       "4    [julianna, margulies, uses, donald, trump, poop, bags, pick, after]\n",
       "Name: headline, dtype: object"
      ]
     },
     "execution_count": 180,
     "metadata": {},
     "output_type": "execute_result"
    }
   ],
   "source": [
    "df_orignial['headline'] = df_orignial['headline'].apply(lambda x: ' '.join([w for w in x.split() if len(w)>3]))\n",
    "df_orignial['headline'] = df_orignial['headline'].apply(lambda x: ' '.join([w for w in x.split() if w.isalpha()]))\n",
    "df_orignial['headline'] = df_orignial['headline'].apply(lambda x : x.lower().split())\n",
    "df_orignial['headline'].head(5)\n"
   ]
  },
  {
   "cell_type": "code",
   "execution_count": 181,
   "metadata": {},
   "outputs": [
    {
     "data": {
      "text/plain": [
       "0    [left, killed, their, just, another]                             \n",
       "1    [course]                                                         \n",
       "2    [actor, longtime, girlfriend, anna, eberstein, tied, knot, civil]\n",
       "3    [actor, gives, dems, fighting, hard, enough, against, donald]    \n",
       "4    [actress, said, using, bags, therapeutic]                        \n",
       "Name: short_description, dtype: object"
      ]
     },
     "execution_count": 181,
     "metadata": {},
     "output_type": "execute_result"
    }
   ],
   "source": [
    "df_orignial['short_description'] = df_orignial['short_description'].apply(lambda x: ' '.join([w for w in x.split() if len(w)>3]))\n",
    "df_orignial['short_description'] = df_orignial['short_description'].apply(lambda x: ' '.join([w for w in x.split() if w.isalpha()]))\n",
    "df_orignial['short_description'] = df_orignial['short_description'].apply(lambda x: x.lower().split())\n",
    "df_orignial['short_description'].head(5)"
   ]
  },
  {
   "cell_type": "code",
   "execution_count": 182,
   "metadata": {},
   "outputs": [],
   "source": [
    "from nltk.stem.porter import PorterStemmer\n",
    "porter = PorterStemmer()"
   ]
  },
  {
   "cell_type": "code",
   "execution_count": 183,
   "metadata": {},
   "outputs": [],
   "source": [
    "#df_orignial['headline'] = df_orignial['headline'].apply(lambda x: [porter.stem(i) for i in x])\n",
    "\n",
    "#df_orignial.headline.head(7)"
   ]
  },
  {
   "cell_type": "code",
   "execution_count": 184,
   "metadata": {},
   "outputs": [
    {
     "name": "stdout",
     "output_type": "stream",
     "text": [
      "rocks : rock\n",
      "corpora : corpus\n",
      "better : good\n"
     ]
    }
   ],
   "source": [
    "from nltk.stem import WordNetLemmatizer \n",
    "  \n",
    "lemmatizer = WordNetLemmatizer() \n",
    "  \n",
    "print(\"rocks :\", lemmatizer.lemmatize(\"rocks\")) \n",
    "print(\"corpora :\", lemmatizer.lemmatize(\"corpora\")) \n",
    "  \n",
    "# a denotes adjective in \"pos\" \n",
    "print(\"better :\", lemmatizer.lemmatize(\"better\", pos =\"a\")) "
   ]
  },
  {
   "cell_type": "code",
   "execution_count": 185,
   "metadata": {},
   "outputs": [
    {
     "data": {
      "text/plain": [
       "0    [there, were, mass, shooting, texas, last, only]                            \n",
       "1    [will, smith, join, diplo, nicky, world, official, song]                    \n",
       "2    [hugh, grant, marries, first, time]                                         \n",
       "3    [carrey, blast, adam, schiff, democrat, artwork]                            \n",
       "4    [julianna, margulies, us, donald, trump, poop, bag, pick, after]            \n",
       "5    [morgan, freeman, that, sexual, harassment, claim, could, undermine, legacy]\n",
       "6    [donald, trump, jingle]                                                     \n",
       "Name: headline, dtype: object"
      ]
     },
     "execution_count": 185,
     "metadata": {},
     "output_type": "execute_result"
    }
   ],
   "source": [
    "df_orignial['headline'] = df_orignial['headline'].apply(lambda x: [lemmatizer.lemmatize(i) for i in x])\n",
    "df_orignial.headline.head(7)"
   ]
  },
  {
   "cell_type": "code",
   "execution_count": 186,
   "metadata": {},
   "outputs": [
    {
     "data": {
      "text/plain": [
       "0    [left, killed, their, just, another]                                                   \n",
       "1    [course]                                                                               \n",
       "2    [actor, longtime, girlfriend, anna, eberstein, tied, knot, civil]                      \n",
       "3    [actor, give, dems, fighting, hard, enough, against, donald]                           \n",
       "4    [actress, said, using, bag, therapeutic]                                               \n",
       "5    [right, equate, horrific, incident, sexual, assault, with, misplaced, compliment, said]\n",
       "6    []                                                                                     \n",
       "Name: short_description, dtype: object"
      ]
     },
     "execution_count": 186,
     "metadata": {},
     "output_type": "execute_result"
    }
   ],
   "source": [
    "df_orignial['short_description'] = df_orignial['short_description'].apply(lambda x: [lemmatizer.lemmatize(i) for i in x])\n",
    "df_orignial['short_description'].head(7)"
   ]
  },
  {
   "cell_type": "code",
   "execution_count": 187,
   "metadata": {},
   "outputs": [],
   "source": [
    "df['headline'].replace('', np.nan, inplace=True)\n",
    "df['short_description'].replace('', np.nan, inplace=True)\n",
    "\n",
    "df.dropna(subset=['headline'], inplace=True)\n",
    "df.dropna(subset=['short_description'], inplace=True)"
   ]
  },
  {
   "cell_type": "code",
   "execution_count": 188,
   "metadata": {},
   "outputs": [
    {
     "data": {
      "text/plain": [
       "(148983, 5)"
      ]
     },
     "execution_count": 188,
     "metadata": {},
     "output_type": "execute_result"
    }
   ],
   "source": [
    "df_orignial.shape"
   ]
  },
  {
   "cell_type": "code",
   "execution_count": 189,
   "metadata": {},
   "outputs": [
    {
     "data": {
      "text/plain": [
       "{'a',\n",
       " 'about',\n",
       " 'above',\n",
       " 'after',\n",
       " 'again',\n",
       " 'against',\n",
       " 'ain',\n",
       " 'all',\n",
       " 'am',\n",
       " 'an',\n",
       " 'and',\n",
       " 'any',\n",
       " 'are',\n",
       " 'aren',\n",
       " \"aren't\",\n",
       " 'as',\n",
       " 'at',\n",
       " 'be',\n",
       " 'because',\n",
       " 'been',\n",
       " 'before',\n",
       " 'being',\n",
       " 'below',\n",
       " 'between',\n",
       " 'both',\n",
       " 'but',\n",
       " 'by',\n",
       " 'can',\n",
       " 'couldn',\n",
       " \"couldn't\",\n",
       " 'd',\n",
       " 'did',\n",
       " 'didn',\n",
       " \"didn't\",\n",
       " 'do',\n",
       " 'does',\n",
       " 'doesn',\n",
       " \"doesn't\",\n",
       " 'doing',\n",
       " 'don',\n",
       " \"don't\",\n",
       " 'down',\n",
       " 'during',\n",
       " 'each',\n",
       " 'few',\n",
       " 'for',\n",
       " 'from',\n",
       " 'further',\n",
       " 'had',\n",
       " 'hadn',\n",
       " \"hadn't\",\n",
       " 'has',\n",
       " 'hasn',\n",
       " \"hasn't\",\n",
       " 'have',\n",
       " 'haven',\n",
       " \"haven't\",\n",
       " 'having',\n",
       " 'he',\n",
       " 'her',\n",
       " 'here',\n",
       " 'hers',\n",
       " 'herself',\n",
       " 'him',\n",
       " 'himself',\n",
       " 'his',\n",
       " 'how',\n",
       " 'i',\n",
       " 'if',\n",
       " 'in',\n",
       " 'into',\n",
       " 'is',\n",
       " 'isn',\n",
       " \"isn't\",\n",
       " 'it',\n",
       " \"it's\",\n",
       " 'its',\n",
       " 'itself',\n",
       " 'just',\n",
       " 'll',\n",
       " 'm',\n",
       " 'ma',\n",
       " 'me',\n",
       " 'mightn',\n",
       " \"mightn't\",\n",
       " 'more',\n",
       " 'most',\n",
       " 'mustn',\n",
       " \"mustn't\",\n",
       " 'my',\n",
       " 'myself',\n",
       " 'needn',\n",
       " \"needn't\",\n",
       " 'no',\n",
       " 'nor',\n",
       " 'not',\n",
       " 'now',\n",
       " 'o',\n",
       " 'of',\n",
       " 'off',\n",
       " 'on',\n",
       " 'once',\n",
       " 'only',\n",
       " 'or',\n",
       " 'other',\n",
       " 'our',\n",
       " 'ours',\n",
       " 'ourselves',\n",
       " 'out',\n",
       " 'over',\n",
       " 'own',\n",
       " 're',\n",
       " 's',\n",
       " 'same',\n",
       " 'shan',\n",
       " \"shan't\",\n",
       " 'she',\n",
       " \"she's\",\n",
       " 'should',\n",
       " \"should've\",\n",
       " 'shouldn',\n",
       " \"shouldn't\",\n",
       " 'so',\n",
       " 'some',\n",
       " 'such',\n",
       " 't',\n",
       " 'than',\n",
       " 'that',\n",
       " \"that'll\",\n",
       " 'the',\n",
       " 'their',\n",
       " 'theirs',\n",
       " 'them',\n",
       " 'themselves',\n",
       " 'then',\n",
       " 'there',\n",
       " 'these',\n",
       " 'they',\n",
       " 'this',\n",
       " 'those',\n",
       " 'through',\n",
       " 'to',\n",
       " 'too',\n",
       " 'under',\n",
       " 'until',\n",
       " 'up',\n",
       " 've',\n",
       " 'very',\n",
       " 'was',\n",
       " 'wasn',\n",
       " \"wasn't\",\n",
       " 'we',\n",
       " 'were',\n",
       " 'weren',\n",
       " \"weren't\",\n",
       " 'what',\n",
       " 'when',\n",
       " 'where',\n",
       " 'which',\n",
       " 'while',\n",
       " 'who',\n",
       " 'whom',\n",
       " 'why',\n",
       " 'will',\n",
       " 'with',\n",
       " 'won',\n",
       " \"won't\",\n",
       " 'wouldn',\n",
       " \"wouldn't\",\n",
       " 'y',\n",
       " 'you',\n",
       " \"you'd\",\n",
       " \"you'll\",\n",
       " \"you're\",\n",
       " \"you've\",\n",
       " 'your',\n",
       " 'yours',\n",
       " 'yourself',\n",
       " 'yourselves'}"
      ]
     },
     "execution_count": 189,
     "metadata": {},
     "output_type": "execute_result"
    }
   ],
   "source": [
    "import nltk\n",
    "from nltk.corpus import stopwords\n",
    "set(stopwords.words('english'))"
   ]
  },
  {
   "cell_type": "code",
   "execution_count": 190,
   "metadata": {},
   "outputs": [
    {
     "name": "stdout",
     "output_type": "stream",
     "text": [
      "['This', 'is', 'a', 'sample', 'sentence', ',', 'showing', 'off', 'the', 'stop', 'words', 'filtration', '.']\n",
      "['This', 'sample', 'sentence', ',', 'showing', 'stop', 'words', 'filtration', '.']\n"
     ]
    }
   ],
   "source": [
    "from nltk.corpus import stopwords \n",
    "from nltk.tokenize import word_tokenize \n",
    "  \n",
    "example_sent = \"This is a sample sentence, showing off the stop words filtration.\"\n",
    "  \n",
    "stop_words = set(stopwords.words('english')) \n",
    "  \n",
    "word_tokens = word_tokenize(example_sent) \n",
    "  \n",
    "filtered_sentence = [w for w in word_tokens if not w in stop_words] \n",
    "  \n",
    "filtered_sentence = [] \n",
    "  \n",
    "for w in word_tokens: \n",
    "    if w not in stop_words: \n",
    "        filtered_sentence.append(w) \n",
    "  \n",
    "print(word_tokens) \n",
    "print(filtered_sentence)"
   ]
  },
  {
   "cell_type": "code",
   "execution_count": 191,
   "metadata": {},
   "outputs": [
    {
     "data": {
      "text/plain": [
       "0    [mass, shooting, texas, last]                                         \n",
       "1    [smith, join, diplo, nicky, world, official, song]                    \n",
       "2    [hugh, grant, marries, first, time]                                   \n",
       "3    [carrey, blast, adam, schiff, democrat, artwork]                      \n",
       "4    [julianna, margulies, us, donald, trump, poop, bag, pick]             \n",
       "5    [morgan, freeman, sexual, harassment, claim, could, undermine, legacy]\n",
       "6    [donald, trump, jingle]                                               \n",
       "Name: headline, dtype: object"
      ]
     },
     "execution_count": 191,
     "metadata": {},
     "output_type": "execute_result"
    }
   ],
   "source": [
    "stop_words = set(stopwords.words('english'))\n",
    "#word_tokens = word_tokenize(df_orignial['headline'])\n",
    "\n",
    "df_orignial['headline'] = df_orignial['headline'].apply(lambda x: [item for item in x if item not in stop_words])\n",
    "df_orignial['headline'].head(7)"
   ]
  },
  {
   "cell_type": "code",
   "execution_count": 192,
   "metadata": {},
   "outputs": [
    {
     "data": {
      "text/plain": [
       "0    [left, killed, another]                                                          \n",
       "1    [course]                                                                         \n",
       "2    [actor, longtime, girlfriend, anna, eberstein, tied, knot, civil]                \n",
       "3    [actor, give, dems, fighting, hard, enough, donald]                              \n",
       "4    [actress, said, using, bag, therapeutic]                                         \n",
       "5    [right, equate, horrific, incident, sexual, assault, misplaced, compliment, said]\n",
       "6    []                                                                               \n",
       "Name: short_description, dtype: object"
      ]
     },
     "execution_count": 192,
     "metadata": {},
     "output_type": "execute_result"
    }
   ],
   "source": [
    "df_orignial['short_description'] = df_orignial['short_description'].apply(lambda x: [item for item in x if item not in stop_words])\n",
    "df_orignial['short_description'].head(7)"
   ]
  },
  {
   "cell_type": "code",
   "execution_count": 193,
   "metadata": {},
   "outputs": [
    {
     "name": "stdout",
     "output_type": "stream",
     "text": [
      "<class 'pandas.core.frame.DataFrame'>\n",
      "Int64Index: 148983 entries, 0 to 200848\n",
      "Data columns (total 5 columns):\n",
      "authors              148983 non-null object\n",
      "category             148983 non-null object\n",
      "date                 148983 non-null datetime64[ns]\n",
      "headline             148983 non-null object\n",
      "short_description    148983 non-null object\n",
      "dtypes: datetime64[ns](1), object(4)\n",
      "memory usage: 6.8+ MB\n"
     ]
    }
   ],
   "source": [
    "df_orignial.info()"
   ]
  },
  {
   "cell_type": "code",
   "execution_count": 124,
   "metadata": {},
   "outputs": [],
   "source": [
    "#df_filter = df_orignial[df_orignial['category'].count() > 4000]"
   ]
  },
  {
   "cell_type": "code",
   "execution_count": 194,
   "metadata": {
    "collapsed": true
   },
   "outputs": [
    {
     "data": {
      "text/plain": [
       "category\n",
       "POLITICS          26913\n",
       "WELLNESS          12827\n",
       "ENTERTAINMENT     12192\n",
       "TRAVEL            8011 \n",
       "STYLE & BEAUTY    7111 \n",
       "PARENTING         6408 \n",
       "HEALTHY LIVING    5072 \n",
       "QUEER VOICES      4669 \n",
       "FOOD & DRINK      4413 \n",
       "BUSINESS          4320 \n",
       "COMEDY            3709 \n",
       "PARENTS           3491 \n",
       "SPORTS            3445 \n",
       "HOME & LIVING     3398 \n",
       "BLACK VOICES      3260 \n",
       "IMPACT            2920 \n",
       "WOMEN             2840 \n",
       "THE WORLDPOST     2198 \n",
       "MEDIA             1976 \n",
       "CRIME             1960 \n",
       "TASTE             1891 \n",
       "WEIRD NEWS        1890 \n",
       "WORLD NEWS        1824 \n",
       "RELIGION          1761 \n",
       "WEDDINGS          1703 \n",
       "DIVORCE           1695 \n",
       "GREEN             1682 \n",
       "TECH              1659 \n",
       "STYLE             1535 \n",
       "MONEY             1492 \n",
       "SCIENCE           1404 \n",
       "ARTS & CULTURE    1307 \n",
       "WORLDPOST         1242 \n",
       "FIFTY             1042 \n",
       "GOOD NEWS         917  \n",
       "EDUCATION         885  \n",
       "LATINO VOICES     877  \n",
       "ARTS              863  \n",
       "COLLEGE           860  \n",
       "ENVIRONMENT       670  \n",
       "CULTURE & ARTS    651  \n",
       "Name: category, dtype: int64"
      ]
     },
     "execution_count": 194,
     "metadata": {},
     "output_type": "execute_result"
    }
   ],
   "source": [
    "df_orignial.groupby('category')['category'].count().sort_values(ascending=False)"
   ]
  },
  {
   "cell_type": "code",
   "execution_count": 195,
   "metadata": {
    "collapsed": true
   },
   "outputs": [
    {
     "data": {
      "text/plain": [
       "date\n",
       "2017-05-31    2615\n",
       "2017-01-31    2575\n",
       "2017-06-30    2519\n",
       "2017-03-31    2493\n",
       "2017-08-31    2493\n",
       "2016-10-31    2467\n",
       "2017-04-30    2450\n",
       "2016-11-30    2405\n",
       "2017-07-31    2381\n",
       "2017-02-28    2366\n",
       "2016-08-31    2341\n",
       "2016-12-31    2335\n",
       "2016-07-31    2312\n",
       "2016-09-30    2306\n",
       "2017-10-31    2304\n",
       "2017-09-30    2230\n",
       "2015-10-31    2229\n",
       "2012-03-31    2204\n",
       "2013-12-31    2170\n",
       "2017-11-30    2163\n",
       "2015-07-31    2145\n",
       "2014-01-31    2136\n",
       "2015-09-30    2116\n",
       "2012-10-31    2105\n",
       "2015-08-31    2103\n",
       "2016-03-31    2101\n",
       "2015-11-30    2097\n",
       "2012-02-29    2085\n",
       "2014-03-31    2065\n",
       "2016-01-31    2063\n",
       "              ... \n",
       "2013-11-30    1951\n",
       "2012-09-30    1934\n",
       "2013-07-31    1932\n",
       "2012-06-30    1929\n",
       "2016-04-30    1882\n",
       "2016-05-31    1879\n",
       "2013-08-31    1850\n",
       "2014-04-30    1833\n",
       "2013-09-30    1833\n",
       "2013-02-28    1820\n",
       "2013-06-30    1760\n",
       "2018-03-31    1755\n",
       "2018-02-28    1638\n",
       "2015-05-31    1593\n",
       "2015-06-30    1574\n",
       "2018-04-30    1557\n",
       "2014-12-31    1535\n",
       "2015-04-30    1502\n",
       "2015-03-31    1469\n",
       "2014-10-31    1439\n",
       "2015-02-28    1370\n",
       "2018-05-31    1365\n",
       "2015-01-31    1314\n",
       "2014-07-31    1306\n",
       "2014-11-30    1289\n",
       "2014-09-30    1286\n",
       "2014-05-31    1259\n",
       "2014-08-31    1246\n",
       "2014-06-30    1170\n",
       "2012-01-31    234 \n",
       "Name: date, Length: 77, dtype: int64"
      ]
     },
     "execution_count": 195,
     "metadata": {},
     "output_type": "execute_result"
    }
   ],
   "source": [
    "#Number of articles published by month\n",
    "df_orignial['date'] = pd.to_datetime(df_orignial['date'], errors='coerce')\n",
    "df_orignial.groupby(pd.Grouper(key='date', freq='M'))['date'].count().sort_values(ascending=False)"
   ]
  },
  {
   "cell_type": "code",
   "execution_count": 196,
   "metadata": {},
   "outputs": [
    {
     "data": {
      "text/plain": [
       "1934.844155844156"
      ]
     },
     "execution_count": 196,
     "metadata": {},
     "output_type": "execute_result"
    }
   ],
   "source": [
    "#Average articles per month\n",
    "df_orignial.groupby(pd.Grouper(key='date', freq='M'))['date'].count().mean()"
   ]
  },
  {
   "cell_type": "code",
   "execution_count": 197,
   "metadata": {
    "collapsed": true
   },
   "outputs": [
    {
     "data": {
      "text/plain": [
       "date\n",
       "2012-01-31    STYLE & BEAUTY\n",
       "2012-02-29    STYLE & BEAUTY\n",
       "2012-03-31    STYLE & BEAUTY\n",
       "2012-04-30    WELLNESS      \n",
       "2012-05-31    WELLNESS      \n",
       "2012-06-30    WELLNESS      \n",
       "2012-07-31    WELLNESS      \n",
       "2012-08-31    WELLNESS      \n",
       "2012-09-30    WELLNESS      \n",
       "2012-10-31    WELLNESS      \n",
       "2012-11-30    WELLNESS      \n",
       "2012-12-31    WELLNESS      \n",
       "2013-01-31    WELLNESS      \n",
       "2013-02-28    WELLNESS      \n",
       "2013-03-31    WELLNESS      \n",
       "2013-04-30    WELLNESS      \n",
       "2013-05-31    WELLNESS      \n",
       "2013-06-30    WELLNESS      \n",
       "2013-07-31    WELLNESS      \n",
       "2013-08-31    WELLNESS      \n",
       "2013-09-30    WELLNESS      \n",
       "2013-10-31    WELLNESS      \n",
       "2013-11-30    WELLNESS      \n",
       "2013-12-31    WELLNESS      \n",
       "2014-01-31    WELLNESS      \n",
       "2014-02-28    WELLNESS      \n",
       "2014-03-31    WELLNESS      \n",
       "2014-04-30    WELLNESS      \n",
       "2014-05-31    HEALTHY LIVING\n",
       "2014-06-30    POLITICS      \n",
       "                ...         \n",
       "2015-12-31    POLITICS      \n",
       "2016-01-31    POLITICS      \n",
       "2016-02-29    POLITICS      \n",
       "2016-03-31    POLITICS      \n",
       "2016-04-30    POLITICS      \n",
       "2016-05-31    POLITICS      \n",
       "2016-06-30    POLITICS      \n",
       "2016-07-31    POLITICS      \n",
       "2016-08-31    POLITICS      \n",
       "2016-09-30    POLITICS      \n",
       "2016-10-31    POLITICS      \n",
       "2016-11-30    POLITICS      \n",
       "2016-12-31    POLITICS      \n",
       "2017-01-31    POLITICS      \n",
       "2017-02-28    POLITICS      \n",
       "2017-03-31    POLITICS      \n",
       "2017-04-30    POLITICS      \n",
       "2017-05-31    POLITICS      \n",
       "2017-06-30    POLITICS      \n",
       "2017-07-31    POLITICS      \n",
       "2017-08-31    POLITICS      \n",
       "2017-09-30    POLITICS      \n",
       "2017-10-31    POLITICS      \n",
       "2017-11-30    POLITICS      \n",
       "2017-12-31    POLITICS      \n",
       "2018-01-31    POLITICS      \n",
       "2018-02-28    POLITICS      \n",
       "2018-03-31    POLITICS      \n",
       "2018-04-30    POLITICS      \n",
       "2018-05-31    POLITICS      \n",
       "Freq: M, Name: category, Length: 77, dtype: object"
      ]
     },
     "execution_count": 197,
     "metadata": {},
     "output_type": "execute_result"
    }
   ],
   "source": [
    "#Popular category per month\n",
    "df_orignial.groupby(pd.Grouper(key='date', freq='M'))['category'].agg(lambda x:x.value_counts().index[0])"
   ]
  },
  {
   "cell_type": "code",
   "execution_count": 198,
   "metadata": {},
   "outputs": [],
   "source": [
    "df_orignial['hd_short']=df_orignial['headline']+df_orignial['short_description']"
   ]
  },
  {
   "cell_type": "code",
   "execution_count": 199,
   "metadata": {},
   "outputs": [],
   "source": [
    "df_orignial['hd_short']  = df_orignial['hd_short'] .apply(lambda x: ','.join(map(str, x)))\n"
   ]
  },
  {
   "cell_type": "code",
   "execution_count": 200,
   "metadata": {},
   "outputs": [
    {
     "data": {
      "text/html": [
       "<div>\n",
       "<style scoped>\n",
       "    .dataframe tbody tr th:only-of-type {\n",
       "        vertical-align: middle;\n",
       "    }\n",
       "\n",
       "    .dataframe tbody tr th {\n",
       "        vertical-align: top;\n",
       "    }\n",
       "\n",
       "    .dataframe thead th {\n",
       "        text-align: right;\n",
       "    }\n",
       "</style>\n",
       "<table border=\"1\" class=\"dataframe\">\n",
       "  <thead>\n",
       "    <tr style=\"text-align: right;\">\n",
       "      <th></th>\n",
       "      <th>authors</th>\n",
       "      <th>category</th>\n",
       "      <th>date</th>\n",
       "      <th>headline</th>\n",
       "      <th>short_description</th>\n",
       "      <th>hd_short</th>\n",
       "    </tr>\n",
       "  </thead>\n",
       "  <tbody>\n",
       "    <tr>\n",
       "      <th>0</th>\n",
       "      <td>Melissa Jeltsen</td>\n",
       "      <td>CRIME</td>\n",
       "      <td>2018-05-26</td>\n",
       "      <td>[mass, shooting, texas, last]</td>\n",
       "      <td>[left, killed, another]</td>\n",
       "      <td>mass,shooting,texas,last,left,killed,another</td>\n",
       "    </tr>\n",
       "    <tr>\n",
       "      <th>1</th>\n",
       "      <td>Andy McDonald</td>\n",
       "      <td>ENTERTAINMENT</td>\n",
       "      <td>2018-05-26</td>\n",
       "      <td>[smith, join, diplo, nicky, world, official, song]</td>\n",
       "      <td>[course]</td>\n",
       "      <td>smith,join,diplo,nicky,world,official,song,course</td>\n",
       "    </tr>\n",
       "    <tr>\n",
       "      <th>2</th>\n",
       "      <td>Ron Dicker</td>\n",
       "      <td>ENTERTAINMENT</td>\n",
       "      <td>2018-05-26</td>\n",
       "      <td>[hugh, grant, marries, first, time]</td>\n",
       "      <td>[actor, longtime, girlfriend, anna, eberstein, tied, knot, civil]</td>\n",
       "      <td>hugh,grant,marries,first,time,actor,longtime,girlfriend,anna,eberstein,tied,knot,civil</td>\n",
       "    </tr>\n",
       "    <tr>\n",
       "      <th>3</th>\n",
       "      <td>Ron Dicker</td>\n",
       "      <td>ENTERTAINMENT</td>\n",
       "      <td>2018-05-26</td>\n",
       "      <td>[carrey, blast, adam, schiff, democrat, artwork]</td>\n",
       "      <td>[actor, give, dems, fighting, hard, enough, donald]</td>\n",
       "      <td>carrey,blast,adam,schiff,democrat,artwork,actor,give,dems,fighting,hard,enough,donald</td>\n",
       "    </tr>\n",
       "    <tr>\n",
       "      <th>4</th>\n",
       "      <td>Ron Dicker</td>\n",
       "      <td>ENTERTAINMENT</td>\n",
       "      <td>2018-05-26</td>\n",
       "      <td>[julianna, margulies, us, donald, trump, poop, bag, pick]</td>\n",
       "      <td>[actress, said, using, bag, therapeutic]</td>\n",
       "      <td>julianna,margulies,us,donald,trump,poop,bag,pick,actress,said,using,bag,therapeutic</td>\n",
       "    </tr>\n",
       "    <tr>\n",
       "      <th>5</th>\n",
       "      <td>Ron Dicker</td>\n",
       "      <td>ENTERTAINMENT</td>\n",
       "      <td>2018-05-26</td>\n",
       "      <td>[morgan, freeman, sexual, harassment, claim, could, undermine, legacy]</td>\n",
       "      <td>[right, equate, horrific, incident, sexual, assault, misplaced, compliment, said]</td>\n",
       "      <td>morgan,freeman,sexual,harassment,claim,could,undermine,legacy,right,equate,horrific,incident,sexual,assault,misplaced,compliment,said</td>\n",
       "    </tr>\n",
       "    <tr>\n",
       "      <th>6</th>\n",
       "      <td>Ron Dicker</td>\n",
       "      <td>ENTERTAINMENT</td>\n",
       "      <td>2018-05-26</td>\n",
       "      <td>[donald, trump, jingle]</td>\n",
       "      <td>[]</td>\n",
       "      <td>donald,trump,jingle</td>\n",
       "    </tr>\n",
       "  </tbody>\n",
       "</table>\n",
       "</div>"
      ],
      "text/plain": [
       "           authors       category       date  \\\n",
       "0  Melissa Jeltsen  CRIME         2018-05-26   \n",
       "1  Andy McDonald    ENTERTAINMENT 2018-05-26   \n",
       "2  Ron Dicker       ENTERTAINMENT 2018-05-26   \n",
       "3  Ron Dicker       ENTERTAINMENT 2018-05-26   \n",
       "4  Ron Dicker       ENTERTAINMENT 2018-05-26   \n",
       "5  Ron Dicker       ENTERTAINMENT 2018-05-26   \n",
       "6  Ron Dicker       ENTERTAINMENT 2018-05-26   \n",
       "\n",
       "                                                                 headline  \\\n",
       "0  [mass, shooting, texas, last]                                            \n",
       "1  [smith, join, diplo, nicky, world, official, song]                       \n",
       "2  [hugh, grant, marries, first, time]                                      \n",
       "3  [carrey, blast, adam, schiff, democrat, artwork]                         \n",
       "4  [julianna, margulies, us, donald, trump, poop, bag, pick]                \n",
       "5  [morgan, freeman, sexual, harassment, claim, could, undermine, legacy]   \n",
       "6  [donald, trump, jingle]                                                  \n",
       "\n",
       "                                                                   short_description  \\\n",
       "0  [left, killed, another]                                                             \n",
       "1  [course]                                                                            \n",
       "2  [actor, longtime, girlfriend, anna, eberstein, tied, knot, civil]                   \n",
       "3  [actor, give, dems, fighting, hard, enough, donald]                                 \n",
       "4  [actress, said, using, bag, therapeutic]                                            \n",
       "5  [right, equate, horrific, incident, sexual, assault, misplaced, compliment, said]   \n",
       "6  []                                                                                  \n",
       "\n",
       "                                                                                                                                hd_short  \n",
       "0  mass,shooting,texas,last,left,killed,another                                                                                           \n",
       "1  smith,join,diplo,nicky,world,official,song,course                                                                                      \n",
       "2  hugh,grant,marries,first,time,actor,longtime,girlfriend,anna,eberstein,tied,knot,civil                                                 \n",
       "3  carrey,blast,adam,schiff,democrat,artwork,actor,give,dems,fighting,hard,enough,donald                                                  \n",
       "4  julianna,margulies,us,donald,trump,poop,bag,pick,actress,said,using,bag,therapeutic                                                    \n",
       "5  morgan,freeman,sexual,harassment,claim,could,undermine,legacy,right,equate,horrific,incident,sexual,assault,misplaced,compliment,said  \n",
       "6  donald,trump,jingle                                                                                                                    "
      ]
     },
     "execution_count": 200,
     "metadata": {},
     "output_type": "execute_result"
    }
   ],
   "source": [
    "df_orignial.head(7)"
   ]
  },
  {
   "cell_type": "code",
   "execution_count": 90,
   "metadata": {},
   "outputs": [],
   "source": [
    "#from sklearn.feature_extraction.text import TfidfVectorizer\n",
    "#from sklearn.model_selection import train_test_split\n",
    "\n",
    "#X_train, ytrain, X_test, ytest = train_test_split(df_orignial['hd_short'], df_orignial['category'], random_state=52)"
   ]
  },
  {
   "cell_type": "code",
   "execution_count": 94,
   "metadata": {},
   "outputs": [
    {
     "name": "stdout",
     "output_type": "stream",
     "text": [
      "Collecting textblob\n",
      "  Downloading https://files.pythonhosted.org/packages/60/f0/1d9bfcc8ee6b83472ec571406bd0dd51c0e6330ff1a51b2d29861d389e85/textblob-0.15.3-py2.py3-none-any.whl (636kB)\n",
      "Requirement already satisfied: nltk>=3.1 in c:\\users\\ikd\\anaconda3\\lib\\site-packages (from textblob) (3.3)\n",
      "Requirement already satisfied: six in c:\\users\\ikd\\anaconda3\\lib\\site-packages (from nltk>=3.1->textblob) (1.11.0)\n",
      "Installing collected packages: textblob\n",
      "Successfully installed textblob-0.15.3\n"
     ]
    },
    {
     "name": "stderr",
     "output_type": "stream",
     "text": [
      "You are using pip version 19.0.3, however version 19.1.1 is available.\n",
      "You should consider upgrading via the 'python -m pip install --upgrade pip' command.\n"
     ]
    }
   ],
   "source": [
    "#!pip install textblob"
   ]
  },
  {
   "cell_type": "code",
   "execution_count": 201,
   "metadata": {},
   "outputs": [],
   "source": [
    "from sklearn import model_selection, preprocessing, linear_model, naive_bayes, metrics, svm\n",
    "from sklearn.feature_extraction.text import TfidfVectorizer, CountVectorizer\n",
    "from sklearn import decomposition, ensemble\n",
    "\n",
    "import pandas, xgboost, numpy, textblob, string\n",
    "from keras.preprocessing import text, sequence\n",
    "from keras import layers, models, optimizers"
   ]
  },
  {
   "cell_type": "code",
   "execution_count": 202,
   "metadata": {},
   "outputs": [
    {
     "data": {
      "text/plain": [
       "['Akshay Shahaji']"
      ]
     },
     "execution_count": 202,
     "metadata": {},
     "output_type": "execute_result"
    }
   ],
   "source": [
    "import re\n",
    "s = \"Akshay Shahaji Nimbalkar\"\n",
    "ans = re.findall('[A-Za-z]+\\s[A-Za-z]+',s)\n",
    "ans"
   ]
  },
  {
   "cell_type": "code",
   "execution_count": 203,
   "metadata": {},
   "outputs": [],
   "source": [
    "#def collect_name(x):\n",
    "#    return re.findall('[A-Za-z]+\\s[A-Za-z]+', x)\n",
    "\n",
    "\n",
    "#y = df_orignial['authors'].apply(lambda x: collect_name(x))\n",
    "df_orignial['writers'] = df_orignial['authors'].str.split(\" \").str[:2]\n",
    "\n",
    "df_orignial['writers']  = df_orignial['writers'] .apply(lambda x: ','.join(map(str, x)))\n"
   ]
  },
  {
   "cell_type": "code",
   "execution_count": 204,
   "metadata": {},
   "outputs": [],
   "source": [
    "df_orignial['hd_short'] = df_orignial['writers'] + df_orignial['hd_short'] \n"
   ]
  },
  {
   "cell_type": "code",
   "execution_count": 205,
   "metadata": {},
   "outputs": [],
   "source": [
    "def replace_comma(x):\n",
    "    return x.replace(\",\", \" \")\n",
    "\n",
    "df_orignial['hd_short'] = df_orignial['hd_short'].apply(lambda x: replace_comma(x))\n",
    "df_orignial['hd_short'] = df_orignial['hd_short'].apply(lambda x: x.lower())"
   ]
  },
  {
   "cell_type": "code",
   "execution_count": 206,
   "metadata": {},
   "outputs": [
    {
     "data": {
      "text/plain": [
       "(148983, 7)"
      ]
     },
     "execution_count": 206,
     "metadata": {},
     "output_type": "execute_result"
    }
   ],
   "source": [
    "df_original = df_orignial[df_orignial['hd_short'] != \"\"]\n",
    "\n",
    "df_original.shape"
   ]
  },
  {
   "cell_type": "code",
   "execution_count": 207,
   "metadata": {},
   "outputs": [
    {
     "data": {
      "text/html": [
       "<div>\n",
       "<style scoped>\n",
       "    .dataframe tbody tr th:only-of-type {\n",
       "        vertical-align: middle;\n",
       "    }\n",
       "\n",
       "    .dataframe tbody tr th {\n",
       "        vertical-align: top;\n",
       "    }\n",
       "\n",
       "    .dataframe thead th {\n",
       "        text-align: right;\n",
       "    }\n",
       "</style>\n",
       "<table border=\"1\" class=\"dataframe\">\n",
       "  <thead>\n",
       "    <tr style=\"text-align: right;\">\n",
       "      <th></th>\n",
       "      <th>authors</th>\n",
       "      <th>category</th>\n",
       "      <th>date</th>\n",
       "      <th>headline</th>\n",
       "      <th>short_description</th>\n",
       "      <th>hd_short</th>\n",
       "      <th>writers</th>\n",
       "    </tr>\n",
       "  </thead>\n",
       "  <tbody>\n",
       "    <tr>\n",
       "      <th>0</th>\n",
       "      <td>Melissa Jeltsen</td>\n",
       "      <td>CRIME</td>\n",
       "      <td>2018-05-26</td>\n",
       "      <td>[mass, shooting, texas, last]</td>\n",
       "      <td>[left, killed, another]</td>\n",
       "      <td>melissa jeltsenmass shooting texas last left killed another</td>\n",
       "      <td>Melissa,Jeltsen</td>\n",
       "    </tr>\n",
       "    <tr>\n",
       "      <th>1</th>\n",
       "      <td>Andy McDonald</td>\n",
       "      <td>ENTERTAINMENT</td>\n",
       "      <td>2018-05-26</td>\n",
       "      <td>[smith, join, diplo, nicky, world, official, song]</td>\n",
       "      <td>[course]</td>\n",
       "      <td>andy mcdonaldsmith join diplo nicky world official song course</td>\n",
       "      <td>Andy,McDonald</td>\n",
       "    </tr>\n",
       "    <tr>\n",
       "      <th>2</th>\n",
       "      <td>Ron Dicker</td>\n",
       "      <td>ENTERTAINMENT</td>\n",
       "      <td>2018-05-26</td>\n",
       "      <td>[hugh, grant, marries, first, time]</td>\n",
       "      <td>[actor, longtime, girlfriend, anna, eberstein, tied, knot, civil]</td>\n",
       "      <td>ron dickerhugh grant marries first time actor longtime girlfriend anna eberstein tied knot civil</td>\n",
       "      <td>Ron,Dicker</td>\n",
       "    </tr>\n",
       "    <tr>\n",
       "      <th>3</th>\n",
       "      <td>Ron Dicker</td>\n",
       "      <td>ENTERTAINMENT</td>\n",
       "      <td>2018-05-26</td>\n",
       "      <td>[carrey, blast, adam, schiff, democrat, artwork]</td>\n",
       "      <td>[actor, give, dems, fighting, hard, enough, donald]</td>\n",
       "      <td>ron dickercarrey blast adam schiff democrat artwork actor give dems fighting hard enough donald</td>\n",
       "      <td>Ron,Dicker</td>\n",
       "    </tr>\n",
       "    <tr>\n",
       "      <th>4</th>\n",
       "      <td>Ron Dicker</td>\n",
       "      <td>ENTERTAINMENT</td>\n",
       "      <td>2018-05-26</td>\n",
       "      <td>[julianna, margulies, us, donald, trump, poop, bag, pick]</td>\n",
       "      <td>[actress, said, using, bag, therapeutic]</td>\n",
       "      <td>ron dickerjulianna margulies us donald trump poop bag pick actress said using bag therapeutic</td>\n",
       "      <td>Ron,Dicker</td>\n",
       "    </tr>\n",
       "    <tr>\n",
       "      <th>5</th>\n",
       "      <td>Ron Dicker</td>\n",
       "      <td>ENTERTAINMENT</td>\n",
       "      <td>2018-05-26</td>\n",
       "      <td>[morgan, freeman, sexual, harassment, claim, could, undermine, legacy]</td>\n",
       "      <td>[right, equate, horrific, incident, sexual, assault, misplaced, compliment, said]</td>\n",
       "      <td>ron dickermorgan freeman sexual harassment claim could undermine legacy right equate horrific incident sexual assault misplaced compliment said</td>\n",
       "      <td>Ron,Dicker</td>\n",
       "    </tr>\n",
       "    <tr>\n",
       "      <th>6</th>\n",
       "      <td>Ron Dicker</td>\n",
       "      <td>ENTERTAINMENT</td>\n",
       "      <td>2018-05-26</td>\n",
       "      <td>[donald, trump, jingle]</td>\n",
       "      <td>[]</td>\n",
       "      <td>ron dickerdonald trump jingle</td>\n",
       "      <td>Ron,Dicker</td>\n",
       "    </tr>\n",
       "    <tr>\n",
       "      <th>7</th>\n",
       "      <td>Todd Van Luling</td>\n",
       "      <td>ENTERTAINMENT</td>\n",
       "      <td>2018-05-26</td>\n",
       "      <td>[watch, amazon, prime, week]</td>\n",
       "      <td>[great, joining]</td>\n",
       "      <td>todd vanwatch amazon prime week great joining</td>\n",
       "      <td>Todd,Van</td>\n",
       "    </tr>\n",
       "    <tr>\n",
       "      <th>8</th>\n",
       "      <td>Andy McDonald</td>\n",
       "      <td>ENTERTAINMENT</td>\n",
       "      <td>2018-05-26</td>\n",
       "      <td>[mike, myers, reveals, fourth, austin, power, film]</td>\n",
       "      <td>[kid, pushing, film]</td>\n",
       "      <td>andy mcdonaldmike myers reveals fourth austin power film kid pushing film</td>\n",
       "      <td>Andy,McDonald</td>\n",
       "    </tr>\n",
       "    <tr>\n",
       "      <th>9</th>\n",
       "      <td>Todd Van Luling</td>\n",
       "      <td>ENTERTAINMENT</td>\n",
       "      <td>2018-05-26</td>\n",
       "      <td>[watch, hulu, week]</td>\n",
       "      <td>[getting, recent, academy]</td>\n",
       "      <td>todd vanwatch hulu week getting recent academy</td>\n",
       "      <td>Todd,Van</td>\n",
       "    </tr>\n",
       "  </tbody>\n",
       "</table>\n",
       "</div>"
      ],
      "text/plain": [
       "           authors       category       date  \\\n",
       "0  Melissa Jeltsen  CRIME         2018-05-26   \n",
       "1  Andy McDonald    ENTERTAINMENT 2018-05-26   \n",
       "2  Ron Dicker       ENTERTAINMENT 2018-05-26   \n",
       "3  Ron Dicker       ENTERTAINMENT 2018-05-26   \n",
       "4  Ron Dicker       ENTERTAINMENT 2018-05-26   \n",
       "5  Ron Dicker       ENTERTAINMENT 2018-05-26   \n",
       "6  Ron Dicker       ENTERTAINMENT 2018-05-26   \n",
       "7  Todd Van Luling  ENTERTAINMENT 2018-05-26   \n",
       "8  Andy McDonald    ENTERTAINMENT 2018-05-26   \n",
       "9  Todd Van Luling  ENTERTAINMENT 2018-05-26   \n",
       "\n",
       "                                                                 headline  \\\n",
       "0  [mass, shooting, texas, last]                                            \n",
       "1  [smith, join, diplo, nicky, world, official, song]                       \n",
       "2  [hugh, grant, marries, first, time]                                      \n",
       "3  [carrey, blast, adam, schiff, democrat, artwork]                         \n",
       "4  [julianna, margulies, us, donald, trump, poop, bag, pick]                \n",
       "5  [morgan, freeman, sexual, harassment, claim, could, undermine, legacy]   \n",
       "6  [donald, trump, jingle]                                                  \n",
       "7  [watch, amazon, prime, week]                                             \n",
       "8  [mike, myers, reveals, fourth, austin, power, film]                      \n",
       "9  [watch, hulu, week]                                                      \n",
       "\n",
       "                                                                   short_description  \\\n",
       "0  [left, killed, another]                                                             \n",
       "1  [course]                                                                            \n",
       "2  [actor, longtime, girlfriend, anna, eberstein, tied, knot, civil]                   \n",
       "3  [actor, give, dems, fighting, hard, enough, donald]                                 \n",
       "4  [actress, said, using, bag, therapeutic]                                            \n",
       "5  [right, equate, horrific, incident, sexual, assault, misplaced, compliment, said]   \n",
       "6  []                                                                                  \n",
       "7  [great, joining]                                                                    \n",
       "8  [kid, pushing, film]                                                                \n",
       "9  [getting, recent, academy]                                                          \n",
       "\n",
       "                                                                                                                                          hd_short  \\\n",
       "0  melissa jeltsenmass shooting texas last left killed another                                                                                       \n",
       "1  andy mcdonaldsmith join diplo nicky world official song course                                                                                    \n",
       "2  ron dickerhugh grant marries first time actor longtime girlfriend anna eberstein tied knot civil                                                  \n",
       "3  ron dickercarrey blast adam schiff democrat artwork actor give dems fighting hard enough donald                                                   \n",
       "4  ron dickerjulianna margulies us donald trump poop bag pick actress said using bag therapeutic                                                     \n",
       "5  ron dickermorgan freeman sexual harassment claim could undermine legacy right equate horrific incident sexual assault misplaced compliment said   \n",
       "6  ron dickerdonald trump jingle                                                                                                                     \n",
       "7  todd vanwatch amazon prime week great joining                                                                                                     \n",
       "8  andy mcdonaldmike myers reveals fourth austin power film kid pushing film                                                                         \n",
       "9  todd vanwatch hulu week getting recent academy                                                                                                    \n",
       "\n",
       "           writers  \n",
       "0  Melissa,Jeltsen  \n",
       "1  Andy,McDonald    \n",
       "2  Ron,Dicker       \n",
       "3  Ron,Dicker       \n",
       "4  Ron,Dicker       \n",
       "5  Ron,Dicker       \n",
       "6  Ron,Dicker       \n",
       "7  Todd,Van         \n",
       "8  Andy,McDonald    \n",
       "9  Todd,Van         "
      ]
     },
     "execution_count": 207,
     "metadata": {},
     "output_type": "execute_result"
    }
   ],
   "source": [
    "df_orignial.head(10)"
   ]
  },
  {
   "cell_type": "code",
   "execution_count": 208,
   "metadata": {},
   "outputs": [],
   "source": [
    "# split the dataset into training and validation datasets \n",
    "X = df_orignial['hd_short']\n",
    "y = df_orignial['category']\n",
    "\n",
    "\n",
    "train_x, valid_x, train_y, valid_y = model_selection.train_test_split(X, y)\n",
    "\n",
    "# label encode the target variable \n",
    "encoder = preprocessing.LabelEncoder()\n",
    "\n",
    "train_y = encoder.fit_transform(train_y)\n",
    "valid_y = encoder.fit_transform(valid_y)"
   ]
  },
  {
   "cell_type": "markdown",
   "metadata": {},
   "source": [
    "# Feature Engineering"
   ]
  },
  {
   "cell_type": "code",
   "execution_count": 225,
   "metadata": {},
   "outputs": [
    {
     "data": {
      "text/plain": [
       "(111737, 122615)"
      ]
     },
     "execution_count": 225,
     "metadata": {},
     "output_type": "execute_result"
    }
   ],
   "source": [
    "# create a count vectorizer object \n",
    "\n",
    "count_vect = CountVectorizer(analyzer='word', token_pattern=r'\\w{1,}')\n",
    "count_vect.fit(X)\n",
    "\n",
    "# transform the training and validation data using count vectorizer object\n",
    "xtrain_count =  count_vect.transform(train_x)\n",
    "xvalid_count =  count_vect.transform(valid_x)\n",
    "\n",
    "#print(\"Count vectorizer\",xtrain_count, xvalid_count)\n",
    "xtrain_count.shape"
   ]
  },
  {
   "cell_type": "code",
   "execution_count": 210,
   "metadata": {},
   "outputs": [],
   "source": [
    "# word level tf-idf\n",
    "tfidf_vect = TfidfVectorizer(analyzer='word', token_pattern=r'\\w{1,}', max_features=5000)\n",
    "tfidf_vect.fit(X)\n",
    "\n",
    "xtrain_tfidf =  tfidf_vect.transform(train_x)\n",
    "xvalid_tfidf =  tfidf_vect.transform(valid_x)\n",
    "#print(\"word level tf-idf\",xtrain_tfidf, xvalid_tfidf)\n",
    "\n",
    "# ngram level tf-idf \n",
    "tfidf_vect_ngram = TfidfVectorizer(analyzer='word', token_pattern=r'\\w{1,}', ngram_range=(2,3), max_features=5000)\n",
    "tfidf_vect_ngram.fit(X)\n",
    "\n",
    "xtrain_tfidf_ngram =  tfidf_vect_ngram.transform(train_x)\n",
    "xvalid_tfidf_ngram =  tfidf_vect_ngram.transform(valid_x)\n",
    "#print(\"ngram level tf-idf\",xtrain_tfidf_ngram, xvalid_tfidf_ngram)\n",
    "\n",
    "\n",
    "# characters level tf-idf\n",
    "tfidf_vect_ngram_chars = TfidfVectorizer(analyzer='char', token_pattern=r'\\w{1,}', ngram_range=(2,3), max_features=5000)\n",
    "tfidf_vect_ngram_chars.fit(X)\n",
    "\n",
    "xtrain_tfidf_ngram_chars =  tfidf_vect_ngram_chars.transform(train_x) \n",
    "xvalid_tfidf_ngram_chars =  tfidf_vect_ngram_chars.transform(valid_x)\n",
    "#print(\"characters level tf-idf\",xtrain_tfidf_ngram_chars, xvalid_tfidf_ngram_chars)\n"
   ]
  },
  {
   "cell_type": "markdown",
   "metadata": {},
   "source": [
    "# model building"
   ]
  },
  {
   "cell_type": "code",
   "execution_count": 211,
   "metadata": {},
   "outputs": [],
   "source": [
    "def train_model(classifier, feature_vector_train, label, feature_vector_valid, is_neural_net=False):\n",
    "    # fit the training dataset on the classifier\n",
    "    classifier.fit(feature_vector_train, label)\n",
    "    \n",
    "    # predict the labels on validation dataset\n",
    "    predictions = classifier.predict(feature_vector_valid)\n",
    "    \n",
    "    if is_neural_net:\n",
    "        predictions = predictions.argmax(axis=-1)\n",
    "    \n",
    "    return metrics.accuracy_score(predictions, valid_y)"
   ]
  },
  {
   "cell_type": "code",
   "execution_count": 221,
   "metadata": {},
   "outputs": [
    {
     "name": "stdout",
     "output_type": "stream",
     "text": [
      "NB, Count Vectors:  0.5278419159104334\n",
      "NB, WordLevel TF-IDF:  0.5409976910272244\n"
     ]
    }
   ],
   "source": [
    "# Naive Bayes on Count Vectors\n",
    "accuracy = train_model(naive_bayes.MultinomialNB(), xtrain_count, train_y, xvalid_count)\n",
    "print(\"NB, Count Vectors: \", accuracy)\n",
    "\n",
    "# Naive Bayes on Word Level TF IDF Vectors\n",
    "accuracy = train_model(naive_bayes.MultinomialNB(), xtrain_tfidf, train_y, xvalid_tfidf)\n",
    "print(\"NB, WordLevel TF-IDF: \", accuracy)\n",
    "\n",
    "# Naive Bayes on Ngram Level TF IDF Vectors\n",
    "#accuracy = train_model(naive_bayes.MultinomialNB(), xtrain_tfidf_ngram, train_y, xvalid_tfidf_ngram)\n",
    "#print(\"NB, N-Gram Vectors: \", accuracy)\n",
    "\n",
    "# Naive Bayes on Character Level TF IDF Vectors\n",
    "#accuracy = train_model(naive_bayes.MultinomialNB(), xtrain_tfidf_ngram_chars, train_y, xvalid_tfidf_ngram_chars)\n",
    "#print(\"NB, CharLevel Vectors: \", accuracy)"
   ]
  },
  {
   "cell_type": "code",
   "execution_count": 230,
   "metadata": {},
   "outputs": [
    {
     "data": {
      "text/plain": [
       "MultinomialNB(alpha=1.0, class_prior=None, fit_prior=True)"
      ]
     },
     "execution_count": 230,
     "metadata": {},
     "output_type": "execute_result"
    }
   ],
   "source": [
    "nb = naive_bayes.MultinomialNB()\n",
    "nb.fit(xtrain_count, train_y)\n"
   ]
  },
  {
   "cell_type": "code",
   "execution_count": 232,
   "metadata": {},
   "outputs": [
    {
     "name": "stdout",
     "output_type": "stream",
     "text": [
      "Train NB accuracy 0.6127155731762979\n",
      "Test NB accuracy 0.5278419159104334\n"
     ]
    }
   ],
   "source": [
    "print(\"Train NB accuracy\",nb.score(xtrain_count, train_y))\n",
    "print(\"Test NB accuracy\", nb.score(xvalid_count, valid_y ))"
   ]
  },
  {
   "cell_type": "code",
   "execution_count": 234,
   "metadata": {},
   "outputs": [
    {
     "name": "stdout",
     "output_type": "stream",
     "text": [
      "Collecting wordcloud\n",
      "  Using cached https://files.pythonhosted.org/packages/23/4e/1254d26ce5d36facdcbb5820e7e434328aed68e99938c75c9d4e2fee5efb/wordcloud-1.5.0-cp37-cp37m-win_amd64.whl\n",
      "Requirement already satisfied: numpy>=1.6.1 in c:\\users\\ikd\\anaconda3\\lib\\site-packages (from wordcloud) (1.16.2)\n",
      "Requirement already satisfied: pillow in c:\\users\\ikd\\anaconda3\\lib\\site-packages (from wordcloud) (5.2.0)\n",
      "Installing collected packages: wordcloud\n",
      "Successfully installed wordcloud-1.5.0\n"
     ]
    },
    {
     "name": "stderr",
     "output_type": "stream",
     "text": [
      "You are using pip version 19.0.3, however version 19.1.1 is available.\n",
      "You should consider upgrading via the 'python -m pip install --upgrade pip' command.\n"
     ]
    }
   ],
   "source": [
    "!pip install wordcloud"
   ]
  },
  {
   "cell_type": "code",
   "execution_count": 237,
   "metadata": {},
   "outputs": [
    {
     "data": {
      "image/png": "[encoded data removed]",
      "text/plain": [
       "<Figure size 864x720 with 1 Axes>"
      ]
     },
     "metadata": {
      "needs_background": "light"
     },
     "output_type": "display_data"
    }
   ],
   "source": [
    "all_words = ' '.join([text for text in df_original['hd_short']])\n",
    "\n",
    "from wordcloud import WordCloud\n",
    "\n",
    "plt.figure(figsize=(12,10))\n",
    "wordcloud = WordCloud(width=800, height=500, random_state=21, max_font_size=110).generate(all_words)\n",
    "\n",
    "import matplotlib.pyplot as plt\n",
    "plt.imshow(wordcloud, interpolation=\"bilinear\")\n",
    "plt.axis('off')\n",
    "plt.show()\n"
   ]
  },
  {
   "cell_type": "code",
   "execution_count": 226,
   "metadata": {},
   "outputs": [
    {
     "name": "stdout",
     "output_type": "stream",
     "text": [
      "SVM, Count Vectors:  0.6352896955377759\n",
      "LR, WordLevel TF-IDF:  0.624550287279171\n"
     ]
    }
   ],
   "source": [
    "# svm on Count Vectors\n",
    "accuracy = train_model(svm.SVC(kernel='linear'), xtrain_count, train_y, xvalid_count)\n",
    "print(\"SVM, Count Vectors: \", accuracy)\n",
    "\n",
    "# svm on Word Level TF IDF Vectors\n",
    "accuracy = train_model(svm.SVC(kernel='linear'), xtrain_tfidf, train_y, xvalid_tfidf)\n",
    "print(\"LR, WordLevel TF-IDF: \", accuracy)\n",
    "\n",
    "# SVM on Ngram Level TF IDF Vectors\n",
    "#accuracy = train_model(svm.SVC(), xtrain_tfidf_ngram, train_y, xvalid_tfidf_ngram)\n",
    "#print(\"SVM, N-Gram Vectors: \", accuracy)\n",
    "\n",
    "# SVM on Character Level TF IDF Vectors\n",
    "#accuracy = train_model(svm.SVC(), xtrain_tfidf_ngram_chars, train_y, xvalid_tfidf_ngram_chars)\n",
    "#print(\"SVM, CharLevel Vectors: \", accuracy)"
   ]
  },
  {
   "cell_type": "code",
   "execution_count": 238,
   "metadata": {},
   "outputs": [
    {
     "data": {
      "text/plain": [
       "SVC(C=1.0, cache_size=200, class_weight=None, coef0=0.0,\n",
       "  decision_function_shape='ovr', degree=3, gamma='auto', kernel='rbf',\n",
       "  max_iter=-1, probability=False, random_state=None, shrinking=True,\n",
       "  tol=0.001, verbose=False)"
      ]
     },
     "execution_count": 238,
     "metadata": {},
     "output_type": "execute_result"
    }
   ],
   "source": [
    "clf = svm.SVC()\n",
    "clf.fit(xtrain_count, train_y)"
   ]
  },
  {
   "cell_type": "code",
   "execution_count": 239,
   "metadata": {},
   "outputs": [
    {
     "name": "stdout",
     "output_type": "stream",
     "text": [
      "Train svm accuracy 0.180146236251197\n"
     ]
    }
   ],
   "source": [
    "print(\"Train svm accuracy\", clf.score(xtrain_count, train_y))\n"
   ]
  },
  {
   "cell_type": "code",
   "execution_count": 214,
   "metadata": {},
   "outputs": [
    {
     "name": "stdout",
     "output_type": "stream",
     "text": [
      "LR, Count Vectors:  0.6691188315523815\n",
      "LR, WordLevel TF-IDF:  0.6207914943886592\n"
     ]
    }
   ],
   "source": [
    "# Linear Classifier on Count Vectors\n",
    "accuracy = train_model(linear_model.LogisticRegression(), xtrain_count, train_y, xvalid_count)\n",
    "print(\"LR, Count Vectors: \", accuracy)\n",
    "\n",
    "# Linear Classifier on Word Level TF IDF Vectors\n",
    "accuracy = train_model(linear_model.LogisticRegression(), xtrain_tfidf, train_y, xvalid_tfidf)\n",
    "print(\"LR, WordLevel TF-IDF: \", accuracy)\n",
    "\n",
    "# Linear Classifier on Ngram Level TF IDF Vectors\n",
    "#accuracy = train_model(linear_model.LogisticRegression(), xtrain_tfidf_ngram, train_y, xvalid_tfidf_ngram)\n",
    "#print(\"LR, N-Gram Vectors: \", accuracy)\n",
    "\n",
    "# Linear Classifier on Character Level TF IDF Vectors\n",
    "#accuracy = train_model(linear_model.LogisticRegression(), xtrain_tfidf_ngram_chars, train_y, xvalid_tfidf_ngram_chars)\n",
    "#print(\"LR, CharLevel Vectors: \", accuracy)"
   ]
  },
  {
   "cell_type": "code",
   "execution_count": 222,
   "metadata": {},
   "outputs": [
    {
     "name": "stdout",
     "output_type": "stream",
     "text": [
      "RF, Count Vectors:  0.5314127691564194\n",
      "RF, WordLevel TF-IDF:  0.5386618697309778\n"
     ]
    }
   ],
   "source": [
    "# RF on Count Vectors\n",
    "accuracy = train_model(ensemble.RandomForestClassifier(), xtrain_count, train_y, xvalid_count)\n",
    "print(\"RF, Count Vectors: \", accuracy)\n",
    "\n",
    "# RF on Word Level TF IDF Vectors\n",
    "accuracy = train_model(ensemble.RandomForestClassifier(), xtrain_tfidf, train_y, xvalid_tfidf)\n",
    "print(\"RF, WordLevel TF-IDF: \", accuracy)\n",
    "\n",
    "# RF on Ngram Level TF IDF Vectors\n",
    "#accuracy = train_model(ensemble.RandomForestClassifier(), xtrain_tfidf_ngram, train_y, xvalid_tfidf_ngram)\n",
    "#print(\"RF, N-Gram Vectors: \", accuracy)\n",
    "\n",
    "# RF on Character Level TF IDF Vectors\n",
    "#accuracy = train_model(ensemble.RandomForestClassifier(), xtrain_tfidf_ngram_chars, train_y, xtrain_tfidf_ngram_chars)\n",
    "#print(\"RF, CharLevel Vectors: \", accuracy)\n"
   ]
  },
  {
   "cell_type": "code",
   "execution_count": 223,
   "metadata": {},
   "outputs": [
    {
     "name": "stderr",
     "output_type": "stream",
     "text": [
      "C:\\Users\\ikd\\Anaconda3\\lib\\site-packages\\sklearn\\preprocessing\\label.py:151: DeprecationWarning: The truth value of an empty array is ambiguous. Returning False, but in future this will result in an error. Use `array.size > 0` to check that an array is not empty.\n",
      "  if diff:\n"
     ]
    },
    {
     "name": "stdout",
     "output_type": "stream",
     "text": [
      "Xgb, Count Vectors:  0.5309563443054288\n",
      "Xgb, WordLevel TF-IDF:  0.5251839123664286\n"
     ]
    },
    {
     "name": "stderr",
     "output_type": "stream",
     "text": [
      "C:\\Users\\ikd\\Anaconda3\\lib\\site-packages\\sklearn\\preprocessing\\label.py:151: DeprecationWarning: The truth value of an empty array is ambiguous. Returning False, but in future this will result in an error. Use `array.size > 0` to check that an array is not empty.\n",
      "  if diff:\n"
     ]
    }
   ],
   "source": [
    "# Extereme Gradient Boosting on Count Vectors\n",
    "accuracy = train_model(xgboost.XGBClassifier(), xtrain_count.tocsc(), train_y, xvalid_count.tocsc())\n",
    "print(\"Xgb, Count Vectors: \", accuracy)\n",
    "\n",
    "# Extereme Gradient Boosting on Word Level TF IDF Vectors\n",
    "accuracy = train_model(xgboost.XGBClassifier(), xtrain_tfidf.tocsc(), train_y, xvalid_tfidf.tocsc())\n",
    "print(\"Xgb, WordLevel TF-IDF: \", accuracy)\n",
    "\n"
   ]
  }
 ],
 "metadata": {
  "kernelspec": {
   "display_name": "Python 3",
   "language": "python",
   "name": "python3"
  },
  "language_info": {
   "codemirror_mode": {
    "name": "ipython",
    "version": 3
   },
   "file_extension": ".py",
   "mimetype": "text/x-python",
   "name": "python",
   "nbconvert_exporter": "python",
   "pygments_lexer": "ipython3",
   "version": "3.7.0"
  }
 },
 "nbformat": 4,
 "nbformat_minor": 2
}
